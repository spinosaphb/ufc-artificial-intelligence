{
 "cells": [
  {
   "cell_type": "markdown",
   "metadata": {},
   "source": [
    "# <center> Relatório "
   ]
  },
  {
   "cell_type": "code",
   "execution_count": 1,
   "metadata": {},
   "outputs": [],
   "source": [
    "import pandas as pd"
   ]
  },
  {
   "cell_type": "code",
   "execution_count": 2,
   "metadata": {},
   "outputs": [],
   "source": [
    "from map_.search import Searcher\n",
    "import sys\n",
    "import json\n",
    "from map_ import Graph\n",
    "from map_.search import Searcher\n",
    "from config import MAP_PATH, COST_MAP_PATH"
   ]
  },
  {
   "cell_type": "code",
   "execution_count": 3,
   "metadata": {},
   "outputs": [],
   "source": [
    "ORIGINS = [\n",
    "    \"Neamt\",\n",
    "    \"Eforie\",\n",
    "    \"Lugoj\",\n",
    "    \"Arad\",\n",
    "    \"Vaslui\",\n",
    "    \"Oradea\",\n",
    "    \"Iasi\",\n",
    "    \"Timisoara\"\n",
    "]\n",
    "\n",
    "TARGET = \"Bucharest\""
   ]
  },
  {
   "cell_type": "code",
   "execution_count": 4,
   "metadata": {},
   "outputs": [],
   "source": [
    "with open(MAP_PATH, 'r') as file:\n",
    "    map_: dict = json.load(file)\n",
    "\n",
    "with open(COST_MAP_PATH, 'r') as file:\n",
    "    cost_map_: dict = json.load(file)\n",
    "\n",
    "graph = Graph.dict2graph(map_)\n",
    "searcher = Searcher(graph)\n",
    "searcher.h_map = cost_map_"
   ]
  },
  {
   "cell_type": "markdown",
   "metadata": {},
   "source": [
    "## Function to run algorithm"
   ]
  },
  {
   "cell_type": "code",
   "execution_count": 65,
   "metadata": {},
   "outputs": [],
   "source": [
    "from typing import Callable, List, Tuple\n",
    "from romania_map.map_.graph import State\n",
    "\n",
    "def time_algorithm(algorithm: Callable[[State, State], List[Tuple[str, int]]]):\n",
    "    target = graph[TARGET]\n",
    "\n",
    "    for city in ORIGINS:\n",
    "        origin = graph[city]\n",
    "        %time\n",
    "        result = algorithm(origin, target)\n",
    "\n",
    "\n",
    "def run_algorithm(algorithm: Callable[[State, State], List[Tuple[str, int]]]):\n",
    "    target = graph[TARGET]\n",
    "    \n",
    "    results = {\n",
    "        'Origem': [],\n",
    "        'Solução': [],\n",
    "        'Custo': [],\n",
    "        'Tempo': []\n",
    "    }\n",
    "\n",
    "    for city in ORIGINS:\n",
    "        origin = graph[city]\n",
    "        result = algorithm(origin, target)\n",
    "\n",
    "        sequence = [st for st, _ in result]\n",
    "        cost = result[-1][-1]\n",
    "\n",
    "        results['Origem'].append(city)\n",
    "        results['Solução'].append('-'.join(sequence))\n",
    "        results['Custo'].append(cost)\n",
    "\n",
    "    return results"
   ]
  },
  {
   "cell_type": "markdown",
   "metadata": {},
   "source": [
    "### Breath-first Search"
   ]
  },
  {
   "cell_type": "code",
   "execution_count": 53,
   "metadata": {},
   "outputs": [
    {
     "name": "stdout",
     "output_type": "stream",
     "text": [
      "CPU times: user 2 µs, sys: 1e+03 ns, total: 3 µs\n",
      "Wall time: 3.1 µs\n",
      "CPU times: user 1 µs, sys: 1 µs, total: 2 µs\n",
      "Wall time: 2.15 µs\n",
      "CPU times: user 1e+03 ns, sys: 0 ns, total: 1e+03 ns\n",
      "Wall time: 3.1 µs\n",
      "CPU times: user 1e+03 ns, sys: 0 ns, total: 1e+03 ns\n",
      "Wall time: 2.15 µs\n",
      "CPU times: user 1e+03 ns, sys: 0 ns, total: 1e+03 ns\n",
      "Wall time: 3.1 µs\n",
      "CPU times: user 1 µs, sys: 0 ns, total: 1 µs\n",
      "Wall time: 2.86 µs\n",
      "CPU times: user 1 µs, sys: 1 µs, total: 2 µs\n",
      "Wall time: 3.1 µs\n",
      "CPU times: user 1e+03 ns, sys: 0 ns, total: 1e+03 ns\n",
      "Wall time: 1.91 µs\n"
     ]
    }
   ],
   "source": [
    "time_algorithm(searcher.breath)"
   ]
  },
  {
   "cell_type": "code",
   "execution_count": 101,
   "metadata": {},
   "outputs": [],
   "source": [
    "bfs_results_time = ['2 µs','1 µs','1e+03 ns','1e+03 ns','1e+03 ns','1 µs','1 µs','1e+03 ns']"
   ]
  },
  {
   "cell_type": "code",
   "execution_count": 102,
   "metadata": {},
   "outputs": [
    {
     "data": {
      "text/html": [
       "<div>\n",
       "<style scoped>\n",
       "    .dataframe tbody tr th:only-of-type {\n",
       "        vertical-align: middle;\n",
       "    }\n",
       "\n",
       "    .dataframe tbody tr th {\n",
       "        vertical-align: top;\n",
       "    }\n",
       "\n",
       "    .dataframe thead th {\n",
       "        text-align: right;\n",
       "    }\n",
       "</style>\n",
       "<table border=\"1\" class=\"dataframe\">\n",
       "  <thead>\n",
       "    <tr style=\"text-align: right;\">\n",
       "      <th></th>\n",
       "      <th>Origem</th>\n",
       "      <th>Solução</th>\n",
       "      <th>Custo</th>\n",
       "      <th>Tempo</th>\n",
       "    </tr>\n",
       "  </thead>\n",
       "  <tbody>\n",
       "    <tr>\n",
       "      <th>0</th>\n",
       "      <td>Neamt</td>\n",
       "      <td>Neamt-Iasi-Vaslui-Urziceni-Bucharest</td>\n",
       "      <td>406</td>\n",
       "      <td>2 µs</td>\n",
       "    </tr>\n",
       "    <tr>\n",
       "      <th>1</th>\n",
       "      <td>Eforie</td>\n",
       "      <td>Eforie-Hirsova-Urziceni-Bucharest</td>\n",
       "      <td>269</td>\n",
       "      <td>1 µs</td>\n",
       "    </tr>\n",
       "    <tr>\n",
       "      <th>2</th>\n",
       "      <td>Lugoj</td>\n",
       "      <td>Lugoj-Mehadia-Drobeta-Craiova-Pitesti-Bucharest</td>\n",
       "      <td>504</td>\n",
       "      <td>1e+03 ns</td>\n",
       "    </tr>\n",
       "    <tr>\n",
       "      <th>3</th>\n",
       "      <td>Arad</td>\n",
       "      <td>Arad-Sibiu-Fagaras-Bucharest</td>\n",
       "      <td>450</td>\n",
       "      <td>1e+03 ns</td>\n",
       "    </tr>\n",
       "    <tr>\n",
       "      <th>4</th>\n",
       "      <td>Vaslui</td>\n",
       "      <td>Vaslui-Urziceni-Bucharest</td>\n",
       "      <td>227</td>\n",
       "      <td>1e+03 ns</td>\n",
       "    </tr>\n",
       "    <tr>\n",
       "      <th>5</th>\n",
       "      <td>Oradea</td>\n",
       "      <td>Oradea-Sibiu-Fagaras-Bucharest</td>\n",
       "      <td>461</td>\n",
       "      <td>1 µs</td>\n",
       "    </tr>\n",
       "    <tr>\n",
       "      <th>6</th>\n",
       "      <td>Iasi</td>\n",
       "      <td>Iasi-Vaslui-Urziceni-Bucharest</td>\n",
       "      <td>319</td>\n",
       "      <td>1 µs</td>\n",
       "    </tr>\n",
       "    <tr>\n",
       "      <th>7</th>\n",
       "      <td>Timisoara</td>\n",
       "      <td>Timisoara-Arad-Sibiu-Fagaras-Bucharest</td>\n",
       "      <td>568</td>\n",
       "      <td>1e+03 ns</td>\n",
       "    </tr>\n",
       "  </tbody>\n",
       "</table>\n",
       "</div>"
      ],
      "text/plain": [
       "      Origem                                          Solução  Custo     Tempo\n",
       "0      Neamt             Neamt-Iasi-Vaslui-Urziceni-Bucharest    406      2 µs\n",
       "1     Eforie                Eforie-Hirsova-Urziceni-Bucharest    269      1 µs\n",
       "2      Lugoj  Lugoj-Mehadia-Drobeta-Craiova-Pitesti-Bucharest    504  1e+03 ns\n",
       "3       Arad                     Arad-Sibiu-Fagaras-Bucharest    450  1e+03 ns\n",
       "4     Vaslui                        Vaslui-Urziceni-Bucharest    227  1e+03 ns\n",
       "5     Oradea                   Oradea-Sibiu-Fagaras-Bucharest    461      1 µs\n",
       "6       Iasi                   Iasi-Vaslui-Urziceni-Bucharest    319      1 µs\n",
       "7  Timisoara           Timisoara-Arad-Sibiu-Fagaras-Bucharest    568  1e+03 ns"
      ]
     },
     "execution_count": 102,
     "metadata": {},
     "output_type": "execute_result"
    }
   ],
   "source": [
    "bfs_results = run_algorithm(searcher.breath)\n",
    "bfs_results['Tempo'] = [*bfs_results_time]\n",
    "bfs_table = pd.DataFrame(bfs_results)\n",
    "bfs_table"
   ]
  },
  {
   "cell_type": "markdown",
   "metadata": {},
   "source": [
    "### Deep-first Search"
   ]
  },
  {
   "cell_type": "code",
   "execution_count": 71,
   "metadata": {},
   "outputs": [
    {
     "name": "stdout",
     "output_type": "stream",
     "text": [
      "CPU times: user 1 µs, sys: 0 ns, total: 1 µs\n",
      "Wall time: 3.1 µs\n",
      "CPU times: user 2 µs, sys: 0 ns, total: 2 µs\n",
      "Wall time: 3.1 µs\n",
      "CPU times: user 1 µs, sys: 0 ns, total: 1 µs\n",
      "Wall time: 3.1 µs\n",
      "CPU times: user 1 µs, sys: 1 µs, total: 2 µs\n",
      "Wall time: 2.86 µs\n",
      "CPU times: user 1 µs, sys: 1e+03 ns, total: 2 µs\n",
      "Wall time: 3.1 µs\n",
      "CPU times: user 2 µs, sys: 1 µs, total: 3 µs\n",
      "Wall time: 2.86 µs\n",
      "CPU times: user 1e+03 ns, sys: 1 µs, total: 2 µs\n",
      "Wall time: 2.86 µs\n",
      "CPU times: user 1 µs, sys: 0 ns, total: 1 µs\n",
      "Wall time: 2.15 µs\n"
     ]
    }
   ],
   "source": [
    "time_algorithm(searcher.deep)"
   ]
  },
  {
   "cell_type": "code",
   "execution_count": 103,
   "metadata": {},
   "outputs": [],
   "source": [
    "dfs_results_time = ['1 µs','2 µs','1 µs','1 µs','1 µs','2 µs','1e+03 ns','1 µs']"
   ]
  },
  {
   "cell_type": "code",
   "execution_count": 104,
   "metadata": {},
   "outputs": [
    {
     "data": {
      "text/html": [
       "<div>\n",
       "<style scoped>\n",
       "    .dataframe tbody tr th:only-of-type {\n",
       "        vertical-align: middle;\n",
       "    }\n",
       "\n",
       "    .dataframe tbody tr th {\n",
       "        vertical-align: top;\n",
       "    }\n",
       "\n",
       "    .dataframe thead th {\n",
       "        text-align: right;\n",
       "    }\n",
       "</style>\n",
       "<table border=\"1\" class=\"dataframe\">\n",
       "  <thead>\n",
       "    <tr style=\"text-align: right;\">\n",
       "      <th></th>\n",
       "      <th>Origem</th>\n",
       "      <th>Solução</th>\n",
       "      <th>Custo</th>\n",
       "      <th>Tempo</th>\n",
       "    </tr>\n",
       "  </thead>\n",
       "  <tbody>\n",
       "    <tr>\n",
       "      <th>0</th>\n",
       "      <td>Neamt</td>\n",
       "      <td>Neamt-Iasi-Vaslui-Urziceni-Bucharest</td>\n",
       "      <td>406</td>\n",
       "      <td>1 µs</td>\n",
       "    </tr>\n",
       "    <tr>\n",
       "      <th>1</th>\n",
       "      <td>Eforie</td>\n",
       "      <td>Eforie-Hirsova-Urziceni-Bucharest</td>\n",
       "      <td>269</td>\n",
       "      <td>2 µs</td>\n",
       "    </tr>\n",
       "    <tr>\n",
       "      <th>2</th>\n",
       "      <td>Lugoj</td>\n",
       "      <td>Lugoj-Timisoara-Arad-Sibiu-Rimnicu Vilcea-Pite...</td>\n",
       "      <td>647</td>\n",
       "      <td>1 µs</td>\n",
       "    </tr>\n",
       "    <tr>\n",
       "      <th>3</th>\n",
       "      <td>Arad</td>\n",
       "      <td>Arad-Timisoara-Lugoj-Mehadia-Drobeta-Craiova-P...</td>\n",
       "      <td>733</td>\n",
       "      <td>1 µs</td>\n",
       "    </tr>\n",
       "    <tr>\n",
       "      <th>4</th>\n",
       "      <td>Vaslui</td>\n",
       "      <td>Vaslui-Urziceni-Bucharest</td>\n",
       "      <td>227</td>\n",
       "      <td>1 µs</td>\n",
       "    </tr>\n",
       "    <tr>\n",
       "      <th>5</th>\n",
       "      <td>Oradea</td>\n",
       "      <td>Oradea-Sibiu-Arad-Timisoara-Lugoj-Mehadia-Drob...</td>\n",
       "      <td>1024</td>\n",
       "      <td>2 µs</td>\n",
       "    </tr>\n",
       "    <tr>\n",
       "      <th>6</th>\n",
       "      <td>Iasi</td>\n",
       "      <td>Iasi-Vaslui-Urziceni-Bucharest</td>\n",
       "      <td>319</td>\n",
       "      <td>1e+03 ns</td>\n",
       "    </tr>\n",
       "    <tr>\n",
       "      <th>7</th>\n",
       "      <td>Timisoara</td>\n",
       "      <td>Timisoara-Lugoj-Mehadia-Drobeta-Craiova-Pitest...</td>\n",
       "      <td>615</td>\n",
       "      <td>1 µs</td>\n",
       "    </tr>\n",
       "  </tbody>\n",
       "</table>\n",
       "</div>"
      ],
      "text/plain": [
       "      Origem                                            Solução  Custo  \\\n",
       "0      Neamt               Neamt-Iasi-Vaslui-Urziceni-Bucharest    406   \n",
       "1     Eforie                  Eforie-Hirsova-Urziceni-Bucharest    269   \n",
       "2      Lugoj  Lugoj-Timisoara-Arad-Sibiu-Rimnicu Vilcea-Pite...    647   \n",
       "3       Arad  Arad-Timisoara-Lugoj-Mehadia-Drobeta-Craiova-P...    733   \n",
       "4     Vaslui                          Vaslui-Urziceni-Bucharest    227   \n",
       "5     Oradea  Oradea-Sibiu-Arad-Timisoara-Lugoj-Mehadia-Drob...   1024   \n",
       "6       Iasi                     Iasi-Vaslui-Urziceni-Bucharest    319   \n",
       "7  Timisoara  Timisoara-Lugoj-Mehadia-Drobeta-Craiova-Pitest...    615   \n",
       "\n",
       "      Tempo  \n",
       "0      1 µs  \n",
       "1      2 µs  \n",
       "2      1 µs  \n",
       "3      1 µs  \n",
       "4      1 µs  \n",
       "5      2 µs  \n",
       "6  1e+03 ns  \n",
       "7      1 µs  "
      ]
     },
     "execution_count": 104,
     "metadata": {},
     "output_type": "execute_result"
    }
   ],
   "source": [
    "dfs_results = run_algorithm(searcher.deep)\n",
    "dfs_results['Tempo'] = [*dfs_results_time]\n",
    "dfs_table = pd.DataFrame(dfs_results)\n",
    "dfs_table"
   ]
  },
  {
   "cell_type": "markdown",
   "metadata": {},
   "source": [
    "### Uniform-cost Search"
   ]
  },
  {
   "cell_type": "code",
   "execution_count": 74,
   "metadata": {},
   "outputs": [
    {
     "name": "stdout",
     "output_type": "stream",
     "text": [
      "CPU times: user 1e+03 ns, sys: 0 ns, total: 1e+03 ns\n",
      "Wall time: 3.81 µs\n",
      "CPU times: user 2 µs, sys: 0 ns, total: 2 µs\n",
      "Wall time: 2.86 µs\n",
      "CPU times: user 1 µs, sys: 1 µs, total: 2 µs\n",
      "Wall time: 2.86 µs\n",
      "CPU times: user 1 µs, sys: 1 µs, total: 2 µs\n",
      "Wall time: 3.1 µs\n",
      "CPU times: user 1e+03 ns, sys: 0 ns, total: 1e+03 ns\n",
      "Wall time: 2.15 µs\n",
      "CPU times: user 1e+03 ns, sys: 1 µs, total: 2 µs\n",
      "Wall time: 1.91 µs\n",
      "CPU times: user 1 µs, sys: 0 ns, total: 1 µs\n",
      "Wall time: 2.62 µs\n",
      "CPU times: user 1 µs, sys: 0 ns, total: 1 µs\n",
      "Wall time: 3.1 µs\n"
     ]
    }
   ],
   "source": [
    "time_algorithm(searcher.uniform)"
   ]
  },
  {
   "cell_type": "code",
   "execution_count": 105,
   "metadata": {},
   "outputs": [],
   "source": [
    "uniform_results_time = ['1e+03 ns', '2 µs', '1 µs', '1 µs', '1e+03 ns', '1e+03 ns', '1 µs', '1 µs']"
   ]
  },
  {
   "cell_type": "code",
   "execution_count": 106,
   "metadata": {},
   "outputs": [
    {
     "data": {
      "text/html": [
       "<div>\n",
       "<style scoped>\n",
       "    .dataframe tbody tr th:only-of-type {\n",
       "        vertical-align: middle;\n",
       "    }\n",
       "\n",
       "    .dataframe tbody tr th {\n",
       "        vertical-align: top;\n",
       "    }\n",
       "\n",
       "    .dataframe thead th {\n",
       "        text-align: right;\n",
       "    }\n",
       "</style>\n",
       "<table border=\"1\" class=\"dataframe\">\n",
       "  <thead>\n",
       "    <tr style=\"text-align: right;\">\n",
       "      <th></th>\n",
       "      <th>Origem</th>\n",
       "      <th>Solução</th>\n",
       "      <th>Custo</th>\n",
       "      <th>Tempo</th>\n",
       "    </tr>\n",
       "  </thead>\n",
       "  <tbody>\n",
       "    <tr>\n",
       "      <th>0</th>\n",
       "      <td>Neamt</td>\n",
       "      <td>Neamt-Iasi-Vaslui-Urziceni-Bucharest</td>\n",
       "      <td>406</td>\n",
       "      <td>1e+03 ns</td>\n",
       "    </tr>\n",
       "    <tr>\n",
       "      <th>1</th>\n",
       "      <td>Eforie</td>\n",
       "      <td>Eforie-Hirsova-Urziceni-Bucharest</td>\n",
       "      <td>269</td>\n",
       "      <td>2 µs</td>\n",
       "    </tr>\n",
       "    <tr>\n",
       "      <th>2</th>\n",
       "      <td>Lugoj</td>\n",
       "      <td>Lugoj-Mehadia-Drobeta-Craiova-Pitesti-Bucharest</td>\n",
       "      <td>504</td>\n",
       "      <td>1 µs</td>\n",
       "    </tr>\n",
       "    <tr>\n",
       "      <th>3</th>\n",
       "      <td>Arad</td>\n",
       "      <td>Arad-Sibiu-Rimnicu Vilcea-Pitesti-Bucharest</td>\n",
       "      <td>418</td>\n",
       "      <td>1 µs</td>\n",
       "    </tr>\n",
       "    <tr>\n",
       "      <th>4</th>\n",
       "      <td>Vaslui</td>\n",
       "      <td>Vaslui-Urziceni-Bucharest</td>\n",
       "      <td>227</td>\n",
       "      <td>1e+03 ns</td>\n",
       "    </tr>\n",
       "    <tr>\n",
       "      <th>5</th>\n",
       "      <td>Oradea</td>\n",
       "      <td>Oradea-Sibiu-Rimnicu Vilcea-Pitesti-Bucharest</td>\n",
       "      <td>429</td>\n",
       "      <td>1e+03 ns</td>\n",
       "    </tr>\n",
       "    <tr>\n",
       "      <th>6</th>\n",
       "      <td>Iasi</td>\n",
       "      <td>Iasi-Vaslui-Urziceni-Bucharest</td>\n",
       "      <td>319</td>\n",
       "      <td>1 µs</td>\n",
       "    </tr>\n",
       "    <tr>\n",
       "      <th>7</th>\n",
       "      <td>Timisoara</td>\n",
       "      <td>Timisoara-Arad-Sibiu-Rimnicu Vilcea-Pitesti-Bu...</td>\n",
       "      <td>536</td>\n",
       "      <td>1 µs</td>\n",
       "    </tr>\n",
       "  </tbody>\n",
       "</table>\n",
       "</div>"
      ],
      "text/plain": [
       "      Origem                                            Solução  Custo  \\\n",
       "0      Neamt               Neamt-Iasi-Vaslui-Urziceni-Bucharest    406   \n",
       "1     Eforie                  Eforie-Hirsova-Urziceni-Bucharest    269   \n",
       "2      Lugoj    Lugoj-Mehadia-Drobeta-Craiova-Pitesti-Bucharest    504   \n",
       "3       Arad        Arad-Sibiu-Rimnicu Vilcea-Pitesti-Bucharest    418   \n",
       "4     Vaslui                          Vaslui-Urziceni-Bucharest    227   \n",
       "5     Oradea      Oradea-Sibiu-Rimnicu Vilcea-Pitesti-Bucharest    429   \n",
       "6       Iasi                     Iasi-Vaslui-Urziceni-Bucharest    319   \n",
       "7  Timisoara  Timisoara-Arad-Sibiu-Rimnicu Vilcea-Pitesti-Bu...    536   \n",
       "\n",
       "      Tempo  \n",
       "0  1e+03 ns  \n",
       "1      2 µs  \n",
       "2      1 µs  \n",
       "3      1 µs  \n",
       "4  1e+03 ns  \n",
       "5  1e+03 ns  \n",
       "6      1 µs  \n",
       "7      1 µs  "
      ]
     },
     "execution_count": 106,
     "metadata": {},
     "output_type": "execute_result"
    }
   ],
   "source": [
    "uniform_results = run_algorithm(searcher.uniform)\n",
    "uniform_results['Tempo'] = [*uniform_results_time]\n",
    "uniform_table = pd.DataFrame(uniform_results)\n",
    "uniform_table"
   ]
  },
  {
   "cell_type": "markdown",
   "metadata": {},
   "source": [
    "### Greedy Search"
   ]
  },
  {
   "cell_type": "code",
   "execution_count": 78,
   "metadata": {},
   "outputs": [
    {
     "name": "stdout",
     "output_type": "stream",
     "text": [
      "CPU times: user 2 µs, sys: 0 ns, total: 2 µs\n",
      "Wall time: 4.05 µs\n",
      "CPU times: user 1 µs, sys: 1e+03 ns, total: 2 µs\n",
      "Wall time: 2.86 µs\n",
      "CPU times: user 1 µs, sys: 0 ns, total: 1 µs\n",
      "Wall time: 2.86 µs\n",
      "CPU times: user 1 µs, sys: 0 ns, total: 1 µs\n",
      "Wall time: 1.91 µs\n",
      "CPU times: user 1e+03 ns, sys: 0 ns, total: 1e+03 ns\n",
      "Wall time: 2.15 µs\n",
      "CPU times: user 1e+03 ns, sys: 1 µs, total: 2 µs\n",
      "Wall time: 3.1 µs\n",
      "CPU times: user 1 µs, sys: 0 ns, total: 1 µs\n",
      "Wall time: 3.1 µs\n",
      "CPU times: user 1e+03 ns, sys: 1e+03 ns, total: 2 µs\n",
      "Wall time: 3.1 µs\n"
     ]
    }
   ],
   "source": [
    "time_algorithm(searcher.greedy)"
   ]
  },
  {
   "cell_type": "code",
   "execution_count": 108,
   "metadata": {},
   "outputs": [],
   "source": [
    "greedy_results_time = ['2 µs', '1 µs', '1 µs', '1 µs', '1e+03 ns', '1e+03 ns', '1 µs', '1e+03 ns']"
   ]
  },
  {
   "cell_type": "code",
   "execution_count": 109,
   "metadata": {},
   "outputs": [
    {
     "data": {
      "text/html": [
       "<div>\n",
       "<style scoped>\n",
       "    .dataframe tbody tr th:only-of-type {\n",
       "        vertical-align: middle;\n",
       "    }\n",
       "\n",
       "    .dataframe tbody tr th {\n",
       "        vertical-align: top;\n",
       "    }\n",
       "\n",
       "    .dataframe thead th {\n",
       "        text-align: right;\n",
       "    }\n",
       "</style>\n",
       "<table border=\"1\" class=\"dataframe\">\n",
       "  <thead>\n",
       "    <tr style=\"text-align: right;\">\n",
       "      <th></th>\n",
       "      <th>Origem</th>\n",
       "      <th>Solução</th>\n",
       "      <th>Custo</th>\n",
       "      <th>Tempo</th>\n",
       "    </tr>\n",
       "  </thead>\n",
       "  <tbody>\n",
       "    <tr>\n",
       "      <th>0</th>\n",
       "      <td>Neamt</td>\n",
       "      <td>Neamt-Iasi-Vaslui-Urziceni-Bucharest</td>\n",
       "      <td>406</td>\n",
       "      <td>2 µs</td>\n",
       "    </tr>\n",
       "    <tr>\n",
       "      <th>1</th>\n",
       "      <td>Eforie</td>\n",
       "      <td>Eforie-Hirsova-Urziceni-Bucharest</td>\n",
       "      <td>269</td>\n",
       "      <td>1 µs</td>\n",
       "    </tr>\n",
       "    <tr>\n",
       "      <th>2</th>\n",
       "      <td>Lugoj</td>\n",
       "      <td>Lugoj-Mehadia-Drobeta-Craiova-Pitesti-Bucharest</td>\n",
       "      <td>504</td>\n",
       "      <td>1 µs</td>\n",
       "    </tr>\n",
       "    <tr>\n",
       "      <th>3</th>\n",
       "      <td>Arad</td>\n",
       "      <td>Arad-Sibiu-Fagaras-Bucharest</td>\n",
       "      <td>450</td>\n",
       "      <td>1 µs</td>\n",
       "    </tr>\n",
       "    <tr>\n",
       "      <th>4</th>\n",
       "      <td>Vaslui</td>\n",
       "      <td>Vaslui-Urziceni-Bucharest</td>\n",
       "      <td>227</td>\n",
       "      <td>1e+03 ns</td>\n",
       "    </tr>\n",
       "    <tr>\n",
       "      <th>5</th>\n",
       "      <td>Oradea</td>\n",
       "      <td>Oradea-Sibiu-Fagaras-Bucharest</td>\n",
       "      <td>461</td>\n",
       "      <td>1e+03 ns</td>\n",
       "    </tr>\n",
       "    <tr>\n",
       "      <th>6</th>\n",
       "      <td>Iasi</td>\n",
       "      <td>Iasi-Vaslui-Urziceni-Bucharest</td>\n",
       "      <td>319</td>\n",
       "      <td>1 µs</td>\n",
       "    </tr>\n",
       "    <tr>\n",
       "      <th>7</th>\n",
       "      <td>Timisoara</td>\n",
       "      <td>Timisoara-Lugoj-Mehadia-Drobeta-Craiova-Pitest...</td>\n",
       "      <td>615</td>\n",
       "      <td>1e+03 ns</td>\n",
       "    </tr>\n",
       "  </tbody>\n",
       "</table>\n",
       "</div>"
      ],
      "text/plain": [
       "      Origem                                            Solução  Custo  \\\n",
       "0      Neamt               Neamt-Iasi-Vaslui-Urziceni-Bucharest    406   \n",
       "1     Eforie                  Eforie-Hirsova-Urziceni-Bucharest    269   \n",
       "2      Lugoj    Lugoj-Mehadia-Drobeta-Craiova-Pitesti-Bucharest    504   \n",
       "3       Arad                       Arad-Sibiu-Fagaras-Bucharest    450   \n",
       "4     Vaslui                          Vaslui-Urziceni-Bucharest    227   \n",
       "5     Oradea                     Oradea-Sibiu-Fagaras-Bucharest    461   \n",
       "6       Iasi                     Iasi-Vaslui-Urziceni-Bucharest    319   \n",
       "7  Timisoara  Timisoara-Lugoj-Mehadia-Drobeta-Craiova-Pitest...    615   \n",
       "\n",
       "      Tempo  \n",
       "0      2 µs  \n",
       "1      1 µs  \n",
       "2      1 µs  \n",
       "3      1 µs  \n",
       "4  1e+03 ns  \n",
       "5  1e+03 ns  \n",
       "6      1 µs  \n",
       "7  1e+03 ns  "
      ]
     },
     "execution_count": 109,
     "metadata": {},
     "output_type": "execute_result"
    }
   ],
   "source": [
    "greedy_results = run_algorithm(searcher.greedy)\n",
    "greedy_results['Tempo'] = [*greedy_results_time]\n",
    "greedy_table = pd.DataFrame(greedy_results)\n",
    "greedy_table"
   ]
  },
  {
   "cell_type": "markdown",
   "metadata": {},
   "source": [
    "### A*"
   ]
  },
  {
   "cell_type": "code",
   "execution_count": 115,
   "metadata": {},
   "outputs": [
    {
     "name": "stdout",
     "output_type": "stream",
     "text": [
      "CPU times: user 1e+03 ns, sys: 0 ns, total: 1e+03 ns\n",
      "Wall time: 2.86 µs\n",
      "CPU times: user 2 µs, sys: 1e+03 ns, total: 3 µs\n",
      "Wall time: 2.86 µs\n",
      "CPU times: user 1e+03 ns, sys: 0 ns, total: 1e+03 ns\n",
      "Wall time: 3.1 µs\n",
      "CPU times: user 1 µs, sys: 1e+03 ns, total: 2 µs\n",
      "Wall time: 3.1 µs\n",
      "CPU times: user 1 µs, sys: 0 ns, total: 1 µs\n",
      "Wall time: 2.86 µs\n",
      "CPU times: user 2 µs, sys: 1e+03 ns, total: 3 µs\n",
      "Wall time: 3.1 µs\n",
      "CPU times: user 1 µs, sys: 0 ns, total: 1 µs\n",
      "Wall time: 3.1 µs\n",
      "CPU times: user 1 µs, sys: 1e+03 ns, total: 2 µs\n",
      "Wall time: 1.91 µs\n"
     ]
    }
   ],
   "source": [
    "time_algorithm(searcher.astar)"
   ]
  },
  {
   "cell_type": "code",
   "execution_count": 116,
   "metadata": {},
   "outputs": [],
   "source": [
    "astar_results_time = ['1e+03 ns', '2 µs', '1e+03 ns', '1 µs', '1 µs', '2 µs', '1 µs', '1 µs']"
   ]
  },
  {
   "cell_type": "code",
   "execution_count": 117,
   "metadata": {},
   "outputs": [
    {
     "data": {
      "text/html": [
       "<div>\n",
       "<style scoped>\n",
       "    .dataframe tbody tr th:only-of-type {\n",
       "        vertical-align: middle;\n",
       "    }\n",
       "\n",
       "    .dataframe tbody tr th {\n",
       "        vertical-align: top;\n",
       "    }\n",
       "\n",
       "    .dataframe thead th {\n",
       "        text-align: right;\n",
       "    }\n",
       "</style>\n",
       "<table border=\"1\" class=\"dataframe\">\n",
       "  <thead>\n",
       "    <tr style=\"text-align: right;\">\n",
       "      <th></th>\n",
       "      <th>Origem</th>\n",
       "      <th>Solução</th>\n",
       "      <th>Custo</th>\n",
       "      <th>Tempo</th>\n",
       "    </tr>\n",
       "  </thead>\n",
       "  <tbody>\n",
       "    <tr>\n",
       "      <th>0</th>\n",
       "      <td>Neamt</td>\n",
       "      <td>Neamt-Iasi-Vaslui-Urziceni-Bucharest</td>\n",
       "      <td>406</td>\n",
       "      <td>1e+03 ns</td>\n",
       "    </tr>\n",
       "    <tr>\n",
       "      <th>1</th>\n",
       "      <td>Eforie</td>\n",
       "      <td>Eforie-Hirsova-Urziceni-Bucharest</td>\n",
       "      <td>269</td>\n",
       "      <td>2 µs</td>\n",
       "    </tr>\n",
       "    <tr>\n",
       "      <th>2</th>\n",
       "      <td>Lugoj</td>\n",
       "      <td>Lugoj-Mehadia-Drobeta-Craiova-Pitesti-Bucharest</td>\n",
       "      <td>504</td>\n",
       "      <td>1e+03 ns</td>\n",
       "    </tr>\n",
       "    <tr>\n",
       "      <th>3</th>\n",
       "      <td>Arad</td>\n",
       "      <td>Arad-Sibiu-Rimnicu Vilcea-Pitesti-Bucharest</td>\n",
       "      <td>418</td>\n",
       "      <td>1 µs</td>\n",
       "    </tr>\n",
       "    <tr>\n",
       "      <th>4</th>\n",
       "      <td>Vaslui</td>\n",
       "      <td>Vaslui-Urziceni-Bucharest</td>\n",
       "      <td>227</td>\n",
       "      <td>1 µs</td>\n",
       "    </tr>\n",
       "    <tr>\n",
       "      <th>5</th>\n",
       "      <td>Oradea</td>\n",
       "      <td>Oradea-Sibiu-Rimnicu Vilcea-Pitesti-Bucharest</td>\n",
       "      <td>429</td>\n",
       "      <td>2 µs</td>\n",
       "    </tr>\n",
       "    <tr>\n",
       "      <th>6</th>\n",
       "      <td>Iasi</td>\n",
       "      <td>Iasi-Vaslui-Urziceni-Bucharest</td>\n",
       "      <td>319</td>\n",
       "      <td>1 µs</td>\n",
       "    </tr>\n",
       "    <tr>\n",
       "      <th>7</th>\n",
       "      <td>Timisoara</td>\n",
       "      <td>Timisoara-Arad-Sibiu-Rimnicu Vilcea-Pitesti-Bu...</td>\n",
       "      <td>536</td>\n",
       "      <td>1 µs</td>\n",
       "    </tr>\n",
       "  </tbody>\n",
       "</table>\n",
       "</div>"
      ],
      "text/plain": [
       "      Origem                                            Solução  Custo  \\\n",
       "0      Neamt               Neamt-Iasi-Vaslui-Urziceni-Bucharest    406   \n",
       "1     Eforie                  Eforie-Hirsova-Urziceni-Bucharest    269   \n",
       "2      Lugoj    Lugoj-Mehadia-Drobeta-Craiova-Pitesti-Bucharest    504   \n",
       "3       Arad        Arad-Sibiu-Rimnicu Vilcea-Pitesti-Bucharest    418   \n",
       "4     Vaslui                          Vaslui-Urziceni-Bucharest    227   \n",
       "5     Oradea      Oradea-Sibiu-Rimnicu Vilcea-Pitesti-Bucharest    429   \n",
       "6       Iasi                     Iasi-Vaslui-Urziceni-Bucharest    319   \n",
       "7  Timisoara  Timisoara-Arad-Sibiu-Rimnicu Vilcea-Pitesti-Bu...    536   \n",
       "\n",
       "      Tempo  \n",
       "0  1e+03 ns  \n",
       "1      2 µs  \n",
       "2  1e+03 ns  \n",
       "3      1 µs  \n",
       "4      1 µs  \n",
       "5      2 µs  \n",
       "6      1 µs  \n",
       "7      1 µs  "
      ]
     },
     "execution_count": 117,
     "metadata": {},
     "output_type": "execute_result"
    }
   ],
   "source": [
    "astar_results = run_algorithm(searcher.astar)\n",
    "astar_results['Tempo'] = [*astar_results_time]\n",
    "astar_table = pd.DataFrame(astar_results)\n",
    "astar_table"
   ]
  },
  {
   "cell_type": "code",
   "execution_count": 129,
   "metadata": {},
   "outputs": [
    {
     "ename": "TypeError",
     "evalue": "Styler.to_latex() got an unexpected keyword argument 'columns'",
     "output_type": "error",
     "traceback": [
      "\u001b[0;31m---------------------------------------------------------------------------\u001b[0m",
      "\u001b[0;31mTypeError\u001b[0m                                 Traceback (most recent call last)",
      "Cell \u001b[0;32mIn [129], line 9\u001b[0m\n\u001b[1;32m      2\u001b[0m \u001b[39mfor\u001b[39;00m name, table \u001b[39min\u001b[39;00m [(\u001b[39m'\u001b[39m\u001b[39mbfs_table\u001b[39m\u001b[39m'\u001b[39m, bfs_table),\n\u001b[1;32m      3\u001b[0m    (\u001b[39m'\u001b[39m\u001b[39mdfs_table\u001b[39m\u001b[39m'\u001b[39m,dfs_table),\n\u001b[1;32m      4\u001b[0m    (\u001b[39m'\u001b[39m\u001b[39muniform_table\u001b[39m\u001b[39m'\u001b[39m,uniform_table),\n\u001b[1;32m      5\u001b[0m    (\u001b[39m'\u001b[39m\u001b[39mgreedy_table\u001b[39m\u001b[39m'\u001b[39m,greedy_table),\n\u001b[1;32m      6\u001b[0m    (\u001b[39m'\u001b[39m\u001b[39mastar_table\u001b[39m\u001b[39m'\u001b[39m, astar_table)]:\n\u001b[1;32m      8\u001b[0m    file\u001b[39m.\u001b[39mwrite(\u001b[39mf\u001b[39m\u001b[39m'\u001b[39m\u001b[39m{\u001b[39;00mname\u001b[39m}\u001b[39;00m\u001b[39m\\n\u001b[39;00m\u001b[39m'\u001b[39m)\n\u001b[0;32m----> 9\u001b[0m    table\u001b[39m.\u001b[39;49mstyle\u001b[39m.\u001b[39;49mhide(axis\u001b[39m=\u001b[39;49m\u001b[39m\"\u001b[39;49m\u001b[39mindex\u001b[39;49m\u001b[39m\"\u001b[39;49m)\u001b[39m.\u001b[39;49mto_latex(\n\u001b[1;32m     10\u001b[0m       file,\n\u001b[1;32m     11\u001b[0m       columns \u001b[39m=\u001b[39;49m [\u001b[39m'\u001b[39;49m\u001b[39mOrigem\u001b[39;49m\u001b[39m'\u001b[39;49m, \u001b[39m'\u001b[39;49m\u001b[39mSolução\u001b[39;49m\u001b[39m'\u001b[39;49m, \u001b[39m'\u001b[39;49m\u001b[39mCusto\u001b[39;49m\u001b[39m'\u001b[39;49m, \u001b[39m'\u001b[39;49m\u001b[39mTempo\u001b[39;49m\u001b[39m'\u001b[39;49m],\n\u001b[1;32m     12\u001b[0m       index\u001b[39m=\u001b[39;49m\u001b[39mFalse\u001b[39;49;00m,\n\u001b[1;32m     13\u001b[0m       bold_rows\u001b[39m=\u001b[39;49m\u001b[39mTrue\u001b[39;49;00m)\n\u001b[1;32m     14\u001b[0m    file\u001b[39m.\u001b[39mwrite(\u001b[39m'\u001b[39m\u001b[39m\\n\u001b[39;00m\u001b[39m'\u001b[39m)\n",
      "\u001b[0;31mTypeError\u001b[0m: Styler.to_latex() got an unexpected keyword argument 'columns'"
     ]
    }
   ],
   "source": [
    "with open('search_tables.tex', 'a') as file:\n",
    "   for name, table in [('bfs_table', bfs_table),\n",
    "      ('dfs_table',dfs_table),\n",
    "      ('uniform_table',uniform_table),\n",
    "      ('greedy_table',greedy_table),\n",
    "      ('astar_table', astar_table)]:\n",
    "      \n",
    "      file.write(f'{name}\\n')\n",
    "      table.style.hide(axis=\"index\").to_latex(file)\n",
    "      file.write('\\n')\n"
   ]
  },
  {
   "cell_type": "code",
   "execution_count": null,
   "metadata": {},
   "outputs": [],
   "source": []
  }
 ],
 "metadata": {
  "kernelspec": {
   "display_name": "Python 3.10.6 ('uni')",
   "language": "python",
   "name": "python3"
  },
  "language_info": {
   "codemirror_mode": {
    "name": "ipython",
    "version": 3
   },
   "file_extension": ".py",
   "mimetype": "text/x-python",
   "name": "python",
   "nbconvert_exporter": "python",
   "pygments_lexer": "ipython3",
   "version": "3.10.6"
  },
  "orig_nbformat": 4,
  "vscode": {
   "interpreter": {
    "hash": "447bbfb0630a950298ab0c77d1806652219c9ce3979bb590cf8341be2a6554e2"
   }
  }
 },
 "nbformat": 4,
 "nbformat_minor": 2
}
